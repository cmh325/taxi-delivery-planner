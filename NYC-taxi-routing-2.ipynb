{
 "cells": [
  {
   "cell_type": "code",
   "execution_count": null,
   "metadata": {},
   "outputs": [],
   "source": [
    "import numpy as np\n",
    "import pandas as pd\n",
    "import matplotlib.pyplot as plt\n",
    "%matplotlib inline\n",
    "import seaborn as sns"
   ]
  },
  {
   "cell_type": "code",
   "execution_count": null,
   "metadata": {},
   "outputs": [],
   "source": [
    "df = pd.read_csv('train.csv')"
   ]
  },
  {
   "cell_type": "code",
   "execution_count": null,
   "metadata": {},
   "outputs": [],
   "source": [
    "df['pickup_datetime'] = pd.to_datetime(df['pickup_datetime'])\n",
    "df['dropoff_datetime'] = pd.to_datetime(df['pickup_datetime'])\n",
    "df['store_and_fwd_flag'] = df['store_and_fwd_flag'].map(lambda x: 1 if x == \"Y\" else 0) "
   ]
  },
  {
   "cell_type": "code",
   "execution_count": null,
   "metadata": {},
   "outputs": [],
   "source": [
    "dfs = df.copy()"
   ]
  },
  {
   "cell_type": "markdown",
   "metadata": {},
   "source": [
    "## Simple Feature Engg"
   ]
  },
  {
   "cell_type": "code",
   "execution_count": null,
   "metadata": {},
   "outputs": [],
   "source": [
    "dfs.columns"
   ]
  },
  {
   "cell_type": "code",
   "execution_count": null,
   "metadata": {},
   "outputs": [],
   "source": [
    "dfs = dfs.query('trip_duration < 2*3600')\n",
    "dfs = dfs.query('pickup_latitude < 45 and pickup_longitude > - 90')"
   ]
  },
  {
   "cell_type": "code",
   "execution_count": null,
   "metadata": {},
   "outputs": [],
   "source": [
    "dfs['pu_day']= dfs['pickup_datetime'].dt.day\n",
    "dfs['pu_hour']= dfs['pickup_datetime'].dt.hour\n",
    "dfs['pu_month']= dfs['pickup_datetime'].dt.month\n",
    "dfs['pu_year']= dfs['pickup_datetime'].dt.year\n",
    "dfs['pu_minute']= dfs['pickup_datetime'].dt.minute\n",
    "dfs['pu_weekday']=dfs['pickup_datetime'].dt.weekday"
   ]
  },
  {
   "cell_type": "code",
   "execution_count": null,
   "metadata": {},
   "outputs": [],
   "source": [
    "dfs.drop(['id','vendor_id','pickup_datetime','dropoff_datetime'],axis=1,inplace=True)"
   ]
  },
  {
   "cell_type": "code",
   "execution_count": null,
   "metadata": {},
   "outputs": [],
   "source": [
    "dfs.head()"
   ]
  },
  {
   "cell_type": "markdown",
   "metadata": {},
   "source": [
    "# Baseline"
   ]
  },
  {
   "cell_type": "code",
   "execution_count": null,
   "metadata": {},
   "outputs": [],
   "source": [
    "from sklearn.model_selection import train_test_split\n",
    "from sklearn.preprocessing import LabelEncoder, OneHotEncoder, normalize\n",
    "from sklearn.ensemble import RandomForestRegressor\n",
    "from sklearn.metrics import mean_absolute_error,mean_squared_error,accuracy_score"
   ]
  },
  {
   "cell_type": "code",
   "execution_count": null,
   "metadata": {},
   "outputs": [],
   "source": [
    "def get_train_test(X,y):\n",
    "    X_train, X_val, y_train, y_val= train_test_split(X, y, test_size=0.2, random_state=42)\n",
    "    return X_train, X_val, y_train, y_val\n",
    "\n",
    "def get_new_baseline(X_train, X_val, y_train, y_val,plot=True):\n",
    "    rf = RandomForestRegressor()\n",
    "    model = rf.fit(X_train,y_train)\n",
    "    preds=rf.predict(X_val)\n",
    "    if plot == True:\n",
    "        return mean_absolute_error(y_val,preds),y_val,preds\n",
    "    else:\n",
    "        return mean_absolute_error(y_val,preds)"
   ]
  },
  {
   "cell_type": "code",
   "execution_count": null,
   "metadata": {},
   "outputs": [],
   "source": [
    "X_train, X_val, y_train, y_val = get_train_test(dfs.drop('trip_duration',axis=1), dfs['trip_duration'])\n",
    "res,true,pred = get_new_baseline(X_train, X_val, y_train, y_val)\n",
    "print(res)"
   ]
  },
  {
   "cell_type": "code",
   "execution_count": null,
   "metadata": {},
   "outputs": [],
   "source": [
    "sns.distplot(true)\n",
    "sns.distplot(pred)"
   ]
  },
  {
   "cell_type": "markdown",
   "metadata": {},
   "source": [
    "# More Feature Engineering"
   ]
  },
  {
   "cell_type": "markdown",
   "metadata": {},
   "source": [
    "### Distance\n",
    "Added horizontal, vertical and mannhattan distance"
   ]
  },
  {
   "cell_type": "code",
   "execution_count": null,
   "metadata": {},
   "outputs": [],
   "source": [
    "dfs['horiz_dist'] = dfs['pickup_latitude']-dfs['dropoff_latitude']\n",
    "dfs['vertical_dist'] = dfs['pickup_longitude']-dfs['dropoff_longitude']\n",
    "dfs['mann_dist'] = np.abs(dfs['pickup_longitude']-dfs['dropoff_longitude'])+np.abs(dfs['pickup_latitude']-dfs['dropoff_latitude'])"
   ]
  },
  {
   "cell_type": "code",
   "execution_count": null,
   "metadata": {},
   "outputs": [],
   "source": [
    "X_train, X_val, y_train, y_val = get_train_test(dfs.drop('trip_duration',axis=1), dfs['trip_duration'])\n",
    "res,true,pred = get_new_baseline(X_train, X_val, y_train, y_val)\n",
    "print(res)"
   ]
  },
  {
   "cell_type": "markdown",
   "metadata": {},
   "source": [
    "### Coords\n",
    "\n",
    "* Interaction between coordinates - like lat and long\n",
    "* neighborhood?"
   ]
  },
  {
   "cell_type": "code",
   "execution_count": null,
   "metadata": {
    "scrolled": true
   },
   "outputs": [],
   "source": [
    "# direction of travel\n",
    "dfs = dfs.query('pickup_latitude > 40 and pickup_latitude < 42 and pickup_longitude < -73 and pickup_longitude > -75').query('dropoff_latitude > 40 and dropoff_latitude < 42 and dropoff_longitude < -73 and dropoff_longitude > -75')\n",
    "dfs['direction'] = np.tan(dfs['vertical_dist']/ (dfs['horiz_dist']+0.0000001))"
   ]
  },
  {
   "cell_type": "code",
   "execution_count": null,
   "metadata": {},
   "outputs": [],
   "source": [
    "from sklearn.cluster import AgglomerativeClustering, KMeans\n",
    "clus = KMeans(n_clusters=5)\n",
    "clus.fit(dfs[['pickup_latitude','pickup_longitude']])\n",
    "cluster_lab = clus.predict(dfs[['pickup_latitude','pickup_longitude']])\n",
    "plt.scatter(tmp['pickup_latitude'],dfs['pickup_longitude'],c=cluster_lab)\n",
    "# plt.scatter(tmp['dropoff_latitude'],tmp['dropoff_longitude'],alpha=0.4)"
   ]
  },
  {
   "cell_type": "code",
   "execution_count": null,
   "metadata": {},
   "outputs": [],
   "source": [
    "dfs['pickup_nbd'] = clus.predict(dfs[['pickup_latitude','pickup_longitude']])\n",
    "dfs['dropoff_nbd'] = clus.predict(dfs[['dropoff_latitude','dropoff_longitude']])"
   ]
  },
  {
   "cell_type": "code",
   "execution_count": null,
   "metadata": {},
   "outputs": [],
   "source": [
    "# try again added neighborhood and direction and removed more outliers\n",
    "X_train, X_val, y_train, y_val = get_train_test(dfs.drop('trip_duration',axis=1), dfs['trip_duration'])\n",
    "res,true,pred = get_new_baseline(X_train, X_val, y_train, y_val)\n",
    "print(res)"
   ]
  },
  {
   "cell_type": "code",
   "execution_count": null,
   "metadata": {},
   "outputs": [],
   "source": [
    "sns.distplot(true)\n",
    "sns.distplot(pred)"
   ]
  },
  {
   "cell_type": "code",
   "execution_count": null,
   "metadata": {},
   "outputs": [],
   "source": [
    "dfs.columns"
   ]
  },
  {
   "cell_type": "markdown",
   "metadata": {},
   "source": [
    "## Model Inspection"
   ]
  },
  {
   "cell_type": "code",
   "execution_count": null,
   "metadata": {},
   "outputs": [],
   "source": [
    "# from sklearn.inspection import permutation_importance\n",
    "# result = permutation_importance(model, X_val, y_cal, n_repeats=10,random_state=42)\n",
    "# perm_sorted_idx = result.importances_mean.argsort()\n",
    "\n",
    "# tree_importance_sorted_idx = np.argsort(model.feature_importances_)\n",
    "# tree_indices = np.arange(0, len(model.feature_importances_)) + 0.5\n",
    "\n",
    "# fig, (ax1, ax2) = plt.subplots(1, 2, figsize=(12, 8))\n",
    "# ax1.barh(tree_indices,\n",
    "#          clf.feature_importances_[tree_importance_sorted_idx], height=0.7)\n",
    "# ax1.set_yticklabels(data.feature_names)\n",
    "# ax1.set_yticks(tree_indices)\n",
    "# ax1.set_ylim((0, len(clf.feature_importances_)))\n",
    "# ax2.boxplot(result.importances[perm_sorted_idx].T, vert=False,\n",
    "#             labels=data.feature_names)\n",
    "# fig.tight_layout()\n",
    "# plt.show()"
   ]
  }
 ],
 "metadata": {
  "kernelspec": {
   "display_name": "Python 3",
   "language": "python",
   "name": "python3"
  },
  "language_info": {
   "codemirror_mode": {
    "name": "ipython",
    "version": 3
   },
   "file_extension": ".py",
   "mimetype": "text/x-python",
   "name": "python",
   "nbconvert_exporter": "python",
   "pygments_lexer": "ipython3",
   "version": "3.7.3"
  }
 },
 "nbformat": 4,
 "nbformat_minor": 2
}
